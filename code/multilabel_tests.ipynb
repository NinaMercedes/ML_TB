{
 "cells": [
  {
   "cell_type": "markdown",
   "source": [
    "# Testing multilabel predictions using example data"
   ],
   "metadata": {
    "collapsed": false
   }
  },
  {
   "cell_type": "markdown",
   "source": [
    "Begin by reading in the example data from the example code directory. The example data contains no missing data and should be easy to read in and process."
   ],
   "metadata": {
    "collapsed": false
   }
  },
  {
   "cell_type": "code",
   "execution_count": 24,
   "outputs": [],
   "source": [
    "import pandas as pd\n",
    "train_phenotypes = pd.read_csv(\"example_data\\example_train_phenotypes.csv\", index_col=[0])\n",
    "train_genotypes = pd.read_csv(\"example_data\\example_train_genotypes.csv\", index_col=[0])\n",
    "test_phenotypes = pd.read_csv(\"example_data\\example_test_phenotypes.csv\", index_col=[0])\n",
    "test_genotypes = pd.read_csv(\"example_data\\example_test_genotypes.csv\", index_col=[0])"
   ],
   "metadata": {
    "collapsed": false
   }
  },
  {
   "cell_type": "code",
   "execution_count": 25,
   "outputs": [
    {
     "data": {
      "text/plain": "         Chromosome_5243_A  Chromosome_5247_T  Chromosome_5248_T  \\\nX                                                                  \nSample1                  0                  0                  0   \nSample2                  0                  0                  0   \nSample3                  0                  0                  0   \nSample4                  0                  0                  0   \nSample5                  0                  0                  0   \n\n         Chromosome_5250_G  Chromosome_5251_A  Chromosome_5254_G  \\\nX                                                                  \nSample1                  0                  0                  0   \nSample2                  0                  0                  0   \nSample3                  0                  0                  0   \nSample4                  0                  0                  0   \nSample5                  0                  0                  0   \n\n         Chromosome_5260_A  Chromosome_5261_A  Chromosome_5265_G  \\\nX                                                                  \nSample1                  0                  0                  0   \nSample2                  0                  0                  0   \nSample3                  0                  0                  0   \nSample4                  0                  0                  0   \nSample5                  0                  0                  0   \n\n         Chromosome_5266_C  ...  Chromosome_4408186_T  Chromosome_4408186_A  \\\nX                           ...                                               \nSample1                  0  ...                     0                     0   \nSample2                  0  ...                     0                     0   \nSample3                  0  ...                     0                     0   \nSample4                  0  ...                     0                     0   \nSample5                  0  ...                     0                     0   \n\n         Chromosome_4408186_C  Chromosome_4408187_C  Chromosome_4408191_C  \\\nX                                                                           \nSample1                     0                     0                     0   \nSample2                     0                     0                     0   \nSample3                     0                     0                     0   \nSample4                     0                     0                     0   \nSample5                     0                     0                     0   \n\n         Chromosome_4408192_T  Chromosome_4408196_A  Chromosome_4408197_T  \\\nX                                                                           \nSample1                     0                     0                     0   \nSample2                     0                     0                     0   \nSample3                     0                     0                     0   \nSample4                     0                     0                     0   \nSample5                     0                     0                     0   \n\n         Chromosome_4408198_C  Chromosome_4408198_A  \nX                                                    \nSample1                     0                     0  \nSample2                     0                     0  \nSample3                     0                     0  \nSample4                     0                     0  \nSample5                     0                     0  \n\n[5 rows x 14373 columns]",
      "text/html": "<div>\n<style scoped>\n    .dataframe tbody tr th:only-of-type {\n        vertical-align: middle;\n    }\n\n    .dataframe tbody tr th {\n        vertical-align: top;\n    }\n\n    .dataframe thead th {\n        text-align: right;\n    }\n</style>\n<table border=\"1\" class=\"dataframe\">\n  <thead>\n    <tr style=\"text-align: right;\">\n      <th></th>\n      <th>Chromosome_5243_A</th>\n      <th>Chromosome_5247_T</th>\n      <th>Chromosome_5248_T</th>\n      <th>Chromosome_5250_G</th>\n      <th>Chromosome_5251_A</th>\n      <th>Chromosome_5254_G</th>\n      <th>Chromosome_5260_A</th>\n      <th>Chromosome_5261_A</th>\n      <th>Chromosome_5265_G</th>\n      <th>Chromosome_5266_C</th>\n      <th>...</th>\n      <th>Chromosome_4408186_T</th>\n      <th>Chromosome_4408186_A</th>\n      <th>Chromosome_4408186_C</th>\n      <th>Chromosome_4408187_C</th>\n      <th>Chromosome_4408191_C</th>\n      <th>Chromosome_4408192_T</th>\n      <th>Chromosome_4408196_A</th>\n      <th>Chromosome_4408197_T</th>\n      <th>Chromosome_4408198_C</th>\n      <th>Chromosome_4408198_A</th>\n    </tr>\n    <tr>\n      <th>X</th>\n      <th></th>\n      <th></th>\n      <th></th>\n      <th></th>\n      <th></th>\n      <th></th>\n      <th></th>\n      <th></th>\n      <th></th>\n      <th></th>\n      <th></th>\n      <th></th>\n      <th></th>\n      <th></th>\n      <th></th>\n      <th></th>\n      <th></th>\n      <th></th>\n      <th></th>\n      <th></th>\n      <th></th>\n    </tr>\n  </thead>\n  <tbody>\n    <tr>\n      <th>Sample1</th>\n      <td>0</td>\n      <td>0</td>\n      <td>0</td>\n      <td>0</td>\n      <td>0</td>\n      <td>0</td>\n      <td>0</td>\n      <td>0</td>\n      <td>0</td>\n      <td>0</td>\n      <td>...</td>\n      <td>0</td>\n      <td>0</td>\n      <td>0</td>\n      <td>0</td>\n      <td>0</td>\n      <td>0</td>\n      <td>0</td>\n      <td>0</td>\n      <td>0</td>\n      <td>0</td>\n    </tr>\n    <tr>\n      <th>Sample2</th>\n      <td>0</td>\n      <td>0</td>\n      <td>0</td>\n      <td>0</td>\n      <td>0</td>\n      <td>0</td>\n      <td>0</td>\n      <td>0</td>\n      <td>0</td>\n      <td>0</td>\n      <td>...</td>\n      <td>0</td>\n      <td>0</td>\n      <td>0</td>\n      <td>0</td>\n      <td>0</td>\n      <td>0</td>\n      <td>0</td>\n      <td>0</td>\n      <td>0</td>\n      <td>0</td>\n    </tr>\n    <tr>\n      <th>Sample3</th>\n      <td>0</td>\n      <td>0</td>\n      <td>0</td>\n      <td>0</td>\n      <td>0</td>\n      <td>0</td>\n      <td>0</td>\n      <td>0</td>\n      <td>0</td>\n      <td>0</td>\n      <td>...</td>\n      <td>0</td>\n      <td>0</td>\n      <td>0</td>\n      <td>0</td>\n      <td>0</td>\n      <td>0</td>\n      <td>0</td>\n      <td>0</td>\n      <td>0</td>\n      <td>0</td>\n    </tr>\n    <tr>\n      <th>Sample4</th>\n      <td>0</td>\n      <td>0</td>\n      <td>0</td>\n      <td>0</td>\n      <td>0</td>\n      <td>0</td>\n      <td>0</td>\n      <td>0</td>\n      <td>0</td>\n      <td>0</td>\n      <td>...</td>\n      <td>0</td>\n      <td>0</td>\n      <td>0</td>\n      <td>0</td>\n      <td>0</td>\n      <td>0</td>\n      <td>0</td>\n      <td>0</td>\n      <td>0</td>\n      <td>0</td>\n    </tr>\n    <tr>\n      <th>Sample5</th>\n      <td>0</td>\n      <td>0</td>\n      <td>0</td>\n      <td>0</td>\n      <td>0</td>\n      <td>0</td>\n      <td>0</td>\n      <td>0</td>\n      <td>0</td>\n      <td>0</td>\n      <td>...</td>\n      <td>0</td>\n      <td>0</td>\n      <td>0</td>\n      <td>0</td>\n      <td>0</td>\n      <td>0</td>\n      <td>0</td>\n      <td>0</td>\n      <td>0</td>\n      <td>0</td>\n    </tr>\n  </tbody>\n</table>\n<p>5 rows × 14373 columns</p>\n</div>"
     },
     "execution_count": 25,
     "metadata": {},
     "output_type": "execute_result"
    }
   ],
   "source": [
    "train_genotypes.head()"
   ],
   "metadata": {
    "collapsed": false
   }
  },
  {
   "cell_type": "code",
   "execution_count": 25,
   "outputs": [],
   "source": [],
   "metadata": {
    "collapsed": false
   }
  }
 ],
 "metadata": {
  "kernelspec": {
   "display_name": "Python 3",
   "language": "python",
   "name": "python3"
  },
  "language_info": {
   "codemirror_mode": {
    "name": "ipython",
    "version": 2
   },
   "file_extension": ".py",
   "mimetype": "text/x-python",
   "name": "python",
   "nbconvert_exporter": "python",
   "pygments_lexer": "ipython2",
   "version": "2.7.6"
  }
 },
 "nbformat": 4,
 "nbformat_minor": 0
}
