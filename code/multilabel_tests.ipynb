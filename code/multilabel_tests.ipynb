{
 "cells": [
  {
   "cell_type": "markdown",
   "source": [
    "\n",
    "# Testing multilabel predictions using example data"
   ],
   "metadata": {
    "collapsed": false
   }
  },
  {
   "cell_type": "markdown",
   "source": [
    "Begin by reading in the example data from the example code directory. The example data contains no missing data and should be easy to read in and process."
   ],
   "metadata": {
    "collapsed": false
   }
  },
  {
   "cell_type": "code",
   "execution_count": 3,
   "outputs": [],
   "source": [
    "import pandas as pd\n",
    "train_phenotypes = pd.read_csv(\"example_data\\example_train_phenotypes.csv\", index_col=[0])\n",
    "train_genotypes = pd.read_csv(\"example_data\\example_train_genotypes.csv\", index_col=[0])\n",
    "test_phenotypes = pd.read_csv(\"example_data\\example_test_phenotypes.csv\", index_col=[0])\n",
    "test_genotypes = pd.read_csv(\"example_data\\example_test_genotypes.csv\", index_col=[0])"
   ],
   "metadata": {
    "collapsed": false
   }
  },
  {
   "cell_type": "code",
   "execution_count": 4,
   "outputs": [
    {
     "data": {
      "text/plain": "         Chromosome_5243_A  Chromosome_5247_T  Chromosome_5248_T  \\\nX                                                                  \nSample1                  0                  0                  0   \nSample2                  0                  0                  0   \nSample3                  0                  0                  0   \nSample4                  0                  0                  0   \nSample5                  0                  0                  0   \n\n         Chromosome_5250_G  Chromosome_5251_A  Chromosome_5254_G  \\\nX                                                                  \nSample1                  0                  0                  0   \nSample2                  0                  0                  0   \nSample3                  0                  0                  0   \nSample4                  0                  0                  0   \nSample5                  0                  0                  0   \n\n         Chromosome_5260_A  Chromosome_5261_A  Chromosome_5265_G  \\\nX                                                                  \nSample1                  0                  0                  0   \nSample2                  0                  0                  0   \nSample3                  0                  0                  0   \nSample4                  0                  0                  0   \nSample5                  0                  0                  0   \n\n         Chromosome_5266_C  ...  Chromosome_4408186_T  Chromosome_4408186_A  \\\nX                           ...                                               \nSample1                  0  ...                     0                     0   \nSample2                  0  ...                     0                     0   \nSample3                  0  ...                     0                     0   \nSample4                  0  ...                     0                     0   \nSample5                  0  ...                     0                     0   \n\n         Chromosome_4408186_C  Chromosome_4408187_C  Chromosome_4408191_C  \\\nX                                                                           \nSample1                     0                     0                     0   \nSample2                     0                     0                     0   \nSample3                     0                     0                     0   \nSample4                     0                     0                     0   \nSample5                     0                     0                     0   \n\n         Chromosome_4408192_T  Chromosome_4408196_A  Chromosome_4408197_T  \\\nX                                                                           \nSample1                     0                     0                     0   \nSample2                     0                     0                     0   \nSample3                     0                     0                     0   \nSample4                     0                     0                     0   \nSample5                     0                     0                     0   \n\n         Chromosome_4408198_C  Chromosome_4408198_A  \nX                                                    \nSample1                     0                     0  \nSample2                     0                     0  \nSample3                     0                     0  \nSample4                     0                     0  \nSample5                     0                     0  \n\n[5 rows x 14373 columns]",
      "text/html": "<div>\n<style scoped>\n    .dataframe tbody tr th:only-of-type {\n        vertical-align: middle;\n    }\n\n    .dataframe tbody tr th {\n        vertical-align: top;\n    }\n\n    .dataframe thead th {\n        text-align: right;\n    }\n</style>\n<table border=\"1\" class=\"dataframe\">\n  <thead>\n    <tr style=\"text-align: right;\">\n      <th></th>\n      <th>Chromosome_5243_A</th>\n      <th>Chromosome_5247_T</th>\n      <th>Chromosome_5248_T</th>\n      <th>Chromosome_5250_G</th>\n      <th>Chromosome_5251_A</th>\n      <th>Chromosome_5254_G</th>\n      <th>Chromosome_5260_A</th>\n      <th>Chromosome_5261_A</th>\n      <th>Chromosome_5265_G</th>\n      <th>Chromosome_5266_C</th>\n      <th>...</th>\n      <th>Chromosome_4408186_T</th>\n      <th>Chromosome_4408186_A</th>\n      <th>Chromosome_4408186_C</th>\n      <th>Chromosome_4408187_C</th>\n      <th>Chromosome_4408191_C</th>\n      <th>Chromosome_4408192_T</th>\n      <th>Chromosome_4408196_A</th>\n      <th>Chromosome_4408197_T</th>\n      <th>Chromosome_4408198_C</th>\n      <th>Chromosome_4408198_A</th>\n    </tr>\n    <tr>\n      <th>X</th>\n      <th></th>\n      <th></th>\n      <th></th>\n      <th></th>\n      <th></th>\n      <th></th>\n      <th></th>\n      <th></th>\n      <th></th>\n      <th></th>\n      <th></th>\n      <th></th>\n      <th></th>\n      <th></th>\n      <th></th>\n      <th></th>\n      <th></th>\n      <th></th>\n      <th></th>\n      <th></th>\n      <th></th>\n    </tr>\n  </thead>\n  <tbody>\n    <tr>\n      <th>Sample1</th>\n      <td>0</td>\n      <td>0</td>\n      <td>0</td>\n      <td>0</td>\n      <td>0</td>\n      <td>0</td>\n      <td>0</td>\n      <td>0</td>\n      <td>0</td>\n      <td>0</td>\n      <td>...</td>\n      <td>0</td>\n      <td>0</td>\n      <td>0</td>\n      <td>0</td>\n      <td>0</td>\n      <td>0</td>\n      <td>0</td>\n      <td>0</td>\n      <td>0</td>\n      <td>0</td>\n    </tr>\n    <tr>\n      <th>Sample2</th>\n      <td>0</td>\n      <td>0</td>\n      <td>0</td>\n      <td>0</td>\n      <td>0</td>\n      <td>0</td>\n      <td>0</td>\n      <td>0</td>\n      <td>0</td>\n      <td>0</td>\n      <td>...</td>\n      <td>0</td>\n      <td>0</td>\n      <td>0</td>\n      <td>0</td>\n      <td>0</td>\n      <td>0</td>\n      <td>0</td>\n      <td>0</td>\n      <td>0</td>\n      <td>0</td>\n    </tr>\n    <tr>\n      <th>Sample3</th>\n      <td>0</td>\n      <td>0</td>\n      <td>0</td>\n      <td>0</td>\n      <td>0</td>\n      <td>0</td>\n      <td>0</td>\n      <td>0</td>\n      <td>0</td>\n      <td>0</td>\n      <td>...</td>\n      <td>0</td>\n      <td>0</td>\n      <td>0</td>\n      <td>0</td>\n      <td>0</td>\n      <td>0</td>\n      <td>0</td>\n      <td>0</td>\n      <td>0</td>\n      <td>0</td>\n    </tr>\n    <tr>\n      <th>Sample4</th>\n      <td>0</td>\n      <td>0</td>\n      <td>0</td>\n      <td>0</td>\n      <td>0</td>\n      <td>0</td>\n      <td>0</td>\n      <td>0</td>\n      <td>0</td>\n      <td>0</td>\n      <td>...</td>\n      <td>0</td>\n      <td>0</td>\n      <td>0</td>\n      <td>0</td>\n      <td>0</td>\n      <td>0</td>\n      <td>0</td>\n      <td>0</td>\n      <td>0</td>\n      <td>0</td>\n    </tr>\n    <tr>\n      <th>Sample5</th>\n      <td>0</td>\n      <td>0</td>\n      <td>0</td>\n      <td>0</td>\n      <td>0</td>\n      <td>0</td>\n      <td>0</td>\n      <td>0</td>\n      <td>0</td>\n      <td>0</td>\n      <td>...</td>\n      <td>0</td>\n      <td>0</td>\n      <td>0</td>\n      <td>0</td>\n      <td>0</td>\n      <td>0</td>\n      <td>0</td>\n      <td>0</td>\n      <td>0</td>\n      <td>0</td>\n    </tr>\n  </tbody>\n</table>\n<p>5 rows × 14373 columns</p>\n</div>"
     },
     "execution_count": 4,
     "metadata": {},
     "output_type": "execute_result"
    }
   ],
   "source": [
    "train_genotypes.head()"
   ],
   "metadata": {
    "collapsed": false
   }
  },
  {
   "cell_type": "code",
   "execution_count": 5,
   "outputs": [
    {
     "data": {
      "text/plain": "         rifampicin  isoniazid  ethambutol  pyrazinamide\nX                                                       \nSample1           1          1           1             0\nSample2           1          1           0             0\nSample3           1          1           1             1\nSample4           1          1           1             1\nSample5           0          0           0             0",
      "text/html": "<div>\n<style scoped>\n    .dataframe tbody tr th:only-of-type {\n        vertical-align: middle;\n    }\n\n    .dataframe tbody tr th {\n        vertical-align: top;\n    }\n\n    .dataframe thead th {\n        text-align: right;\n    }\n</style>\n<table border=\"1\" class=\"dataframe\">\n  <thead>\n    <tr style=\"text-align: right;\">\n      <th></th>\n      <th>rifampicin</th>\n      <th>isoniazid</th>\n      <th>ethambutol</th>\n      <th>pyrazinamide</th>\n    </tr>\n    <tr>\n      <th>X</th>\n      <th></th>\n      <th></th>\n      <th></th>\n      <th></th>\n    </tr>\n  </thead>\n  <tbody>\n    <tr>\n      <th>Sample1</th>\n      <td>1</td>\n      <td>1</td>\n      <td>1</td>\n      <td>0</td>\n    </tr>\n    <tr>\n      <th>Sample2</th>\n      <td>1</td>\n      <td>1</td>\n      <td>0</td>\n      <td>0</td>\n    </tr>\n    <tr>\n      <th>Sample3</th>\n      <td>1</td>\n      <td>1</td>\n      <td>1</td>\n      <td>1</td>\n    </tr>\n    <tr>\n      <th>Sample4</th>\n      <td>1</td>\n      <td>1</td>\n      <td>1</td>\n      <td>1</td>\n    </tr>\n    <tr>\n      <th>Sample5</th>\n      <td>0</td>\n      <td>0</td>\n      <td>0</td>\n      <td>0</td>\n    </tr>\n  </tbody>\n</table>\n</div>"
     },
     "execution_count": 5,
     "metadata": {},
     "output_type": "execute_result"
    }
   ],
   "source": [
    "train_phenotypes.head()"
   ],
   "metadata": {
    "collapsed": false
   }
  },
  {
   "cell_type": "markdown",
   "source": [
    "\n",
    "The data is loaded and ready to start the machine learning process. The first step is to address any potential class imbalances. As label powerset addresses multilabel classification by converting it to a multiclass problem, it is possible to perform upsampling to address imbalances in the dataset. This has already been addressed and implemented for multiclass problems.\n",
    "\n",
    "It is useful to first observe the class imbalances across the training dataset.\n"
   ],
   "metadata": {
    "collapsed": false
   }
  },
  {
   "cell_type": "code",
   "execution_count": 6,
   "outputs": [
    {
     "data": {
      "text/plain": "<AxesSubplot: >"
     },
     "execution_count": 6,
     "metadata": {},
     "output_type": "execute_result"
    },
    {
     "data": {
      "text/plain": "<Figure size 640x480 with 1 Axes>",
      "image/png": "[encoded data removed]"
     },
     "metadata": {},
     "output_type": "display_data"
    }
   ],
   "source": [
    "train_phenotypes.apply(pd.value_counts).T.plot.bar() # plot number of each class"
   ],
   "metadata": {
    "collapsed": false
   }
  },
  {
   "cell_type": "markdown",
   "source": [
    "\n",
    "The next step is to transform the data to mutliclass and perform oversampling."
   ],
   "metadata": {
    "collapsed": false
   }
  },
  {
   "cell_type": "code",
   "execution_count": 74,
   "outputs": [
    {
     "name": "stdout",
     "output_type": "stream",
     "text": [
      "[0 1 2 2 3 0 3 3 3 3 3 3 3 3 3 3 3 3 3 0 3 0 0 4 2 5 3 3 3 3 3 3 3 3 3 3 3\n",
      " 3 3 3 4 3 3 3 3 4 3 3 3 3 3 3 3 4 3 3 3 3 3 4 3 3 3 3 3 3 6 3 3 4 3 3 3 3\n",
      " 3 3 3 3 3 3]\n"
     ]
    }
   ],
   "source": [
    "from skmultilearn.problem_transform import LabelPowerset\n",
    "from imblearn.over_sampling import RandomOverSampler\n",
    "import numpy as np\n",
    "lp = LabelPowerset()\n",
    "y = np.array(train_phenotypes) # convert data frame to numpy array for transformation\n",
    "x = np.array(train_genotypes) # convert data frame to numpy array for transformation\n",
    "y = lp.transform(y)\n",
    "print(y) # visualise transformation\n",
    "ros = RandomOverSampler(random_state=10, sampling_strategy='not minority') # check sampling strategy\n",
    "x_resampled, y_resampled = ros.fit_resample(x, y)\n",
    "y_resampled = lp.inverse_transform(y_resampled) # output is sparse array\n",
    "#y_resampled_full = y_resampled.toarray()\n",
    "#y_resampled_full = pd.DataFrame(y_resampled_full, columns= train_phenotypes.columns)"
   ],
   "metadata": {
    "collapsed": false
   }
  },
  {
   "cell_type": "markdown",
   "source": [
    "Next step is to perform prediction using label powerset. There are a few things to bear in mind:\n",
    "* The type of base classifier (select using cross validation)\n",
    "* Different measures of performance\n",
    "* Feature importance\n",
    "* Exploring and dealing with label relations\n",
    "\n",
    "We will start by performing label powerset prediction, using 5-fold cross validation to select the best estimator. We will not explore or directly deal with label relations for now. The first output will tell us the best estimator and parameters.\n"
   ],
   "metadata": {
    "collapsed": false
   }
  },
  {
   "cell_type": "code",
   "execution_count": 97,
   "outputs": [
    {
     "data": {
      "text/plain": "GridSearchCV(estimator=LabelPowerset(require_dense=[True, True]),\n             param_grid=[{'classifier': [RandomForestClassifier(n_estimators=20)],\n                          'classifier__criterion': ['gini'],\n                          'classifier__n_estimators': [10, 20]}],\n             scoring='f1_micro')",
      "text/html": "<style>#sk-container-id-3 {color: black;background-color: white;}#sk-container-id-3 pre{padding: 0;}#sk-container-id-3 div.sk-toggleable {background-color: white;}#sk-container-id-3 label.sk-toggleable__label {cursor: pointer;display: block;width: 100%;margin-bottom: 0;padding: 0.3em;box-sizing: border-box;text-align: center;}#sk-container-id-3 label.sk-toggleable__label-arrow:before {content: \"▸\";float: left;margin-right: 0.25em;color: #696969;}#sk-container-id-3 label.sk-toggleable__label-arrow:hover:before {color: black;}#sk-container-id-3 div.sk-estimator:hover label.sk-toggleable__label-arrow:before {color: black;}#sk-container-id-3 div.sk-toggleable__content {max-height: 0;max-width: 0;overflow: hidden;text-align: left;background-color: #f0f8ff;}#sk-container-id-3 div.sk-toggleable__content pre {margin: 0.2em;color: black;border-radius: 0.25em;background-color: #f0f8ff;}#sk-container-id-3 input.sk-toggleable__control:checked~div.sk-toggleable__content {max-height: 200px;max-width: 100%;overflow: auto;}#sk-container-id-3 input.sk-toggleable__control:checked~label.sk-toggleable__label-arrow:before {content: \"▾\";}#sk-container-id-3 div.sk-estimator input.sk-toggleable__control:checked~label.sk-toggleable__label {background-color: #d4ebff;}#sk-container-id-3 div.sk-label input.sk-toggleable__control:checked~label.sk-toggleable__label {background-color: #d4ebff;}#sk-container-id-3 input.sk-hidden--visually {border: 0;clip: rect(1px 1px 1px 1px);clip: rect(1px, 1px, 1px, 1px);height: 1px;margin: -1px;overflow: hidden;padding: 0;position: absolute;width: 1px;}#sk-container-id-3 div.sk-estimator {font-family: monospace;background-color: #f0f8ff;border: 1px dotted black;border-radius: 0.25em;box-sizing: border-box;margin-bottom: 0.5em;}#sk-container-id-3 div.sk-estimator:hover {background-color: #d4ebff;}#sk-container-id-3 div.sk-parallel-item::after {content: \"\";width: 100%;border-bottom: 1px solid gray;flex-grow: 1;}#sk-container-id-3 div.sk-label:hover label.sk-toggleable__label {background-color: #d4ebff;}#sk-container-id-3 div.sk-serial::before {content: \"\";position: absolute;border-left: 1px solid gray;box-sizing: border-box;top: 0;bottom: 0;left: 50%;z-index: 0;}#sk-container-id-3 div.sk-serial {display: flex;flex-direction: column;align-items: center;background-color: white;padding-right: 0.2em;padding-left: 0.2em;position: relative;}#sk-container-id-3 div.sk-item {position: relative;z-index: 1;}#sk-container-id-3 div.sk-parallel {display: flex;align-items: stretch;justify-content: center;background-color: white;position: relative;}#sk-container-id-3 div.sk-item::before, #sk-container-id-3 div.sk-parallel-item::before {content: \"\";position: absolute;border-left: 1px solid gray;box-sizing: border-box;top: 0;bottom: 0;left: 50%;z-index: -1;}#sk-container-id-3 div.sk-parallel-item {display: flex;flex-direction: column;z-index: 1;position: relative;background-color: white;}#sk-container-id-3 div.sk-parallel-item:first-child::after {align-self: flex-end;width: 50%;}#sk-container-id-3 div.sk-parallel-item:last-child::after {align-self: flex-start;width: 50%;}#sk-container-id-3 div.sk-parallel-item:only-child::after {width: 0;}#sk-container-id-3 div.sk-dashed-wrapped {border: 1px dashed gray;margin: 0 0.4em 0.5em 0.4em;box-sizing: border-box;padding-bottom: 0.4em;background-color: white;}#sk-container-id-3 div.sk-label label {font-family: monospace;font-weight: bold;display: inline-block;line-height: 1.2em;}#sk-container-id-3 div.sk-label-container {text-align: center;}#sk-container-id-3 div.sk-container {/* jupyter's `normalize.less` sets `[hidden] { display: none; }` but bootstrap.min.css set `[hidden] { display: none !important; }` so we also need the `!important` here to be able to override the default hidden behavior on the sphinx rendered scikit-learn.org. See: https://github.com/scikit-learn/scikit-learn/issues/21755 */display: inline-block !important;position: relative;}#sk-container-id-3 div.sk-text-repr-fallback {display: none;}</style><div id=\"sk-container-id-3\" class=\"sk-top-container\"><div class=\"sk-text-repr-fallback\"><pre>GridSearchCV(estimator=LabelPowerset(require_dense=[True, True]),\n             param_grid=[{&#x27;classifier&#x27;: [RandomForestClassifier(n_estimators=20)],\n                          &#x27;classifier__criterion&#x27;: [&#x27;gini&#x27;],\n                          &#x27;classifier__n_estimators&#x27;: [10, 20]}],\n             scoring=&#x27;f1_micro&#x27;)</pre><b>In a Jupyter environment, please rerun this cell to show the HTML representation or trust the notebook. <br />On GitHub, the HTML representation is unable to render, please try loading this page with nbviewer.org.</b></div><div class=\"sk-container\" hidden><div class=\"sk-item sk-dashed-wrapped\"><div class=\"sk-label-container\"><div class=\"sk-label sk-toggleable\"><input class=\"sk-toggleable__control sk-hidden--visually\" id=\"sk-estimator-id-7\" type=\"checkbox\" ><label for=\"sk-estimator-id-7\" class=\"sk-toggleable__label sk-toggleable__label-arrow\">GridSearchCV</label><div class=\"sk-toggleable__content\"><pre>GridSearchCV(estimator=LabelPowerset(require_dense=[True, True]),\n             param_grid=[{&#x27;classifier&#x27;: [RandomForestClassifier(n_estimators=20)],\n                          &#x27;classifier__criterion&#x27;: [&#x27;gini&#x27;],\n                          &#x27;classifier__n_estimators&#x27;: [10, 20]}],\n             scoring=&#x27;f1_micro&#x27;)</pre></div></div></div><div class=\"sk-parallel\"><div class=\"sk-parallel-item\"><div class=\"sk-item\"><div class=\"sk-label-container\"><div class=\"sk-label sk-toggleable\"><input class=\"sk-toggleable__control sk-hidden--visually\" id=\"sk-estimator-id-8\" type=\"checkbox\" ><label for=\"sk-estimator-id-8\" class=\"sk-toggleable__label sk-toggleable__label-arrow\">estimator: LabelPowerset</label><div class=\"sk-toggleable__content\"><pre>LabelPowerset(require_dense=[True, True])</pre></div></div></div><div class=\"sk-serial\"><div class=\"sk-item\"><div class=\"sk-estimator sk-toggleable\"><input class=\"sk-toggleable__control sk-hidden--visually\" id=\"sk-estimator-id-9\" type=\"checkbox\" ><label for=\"sk-estimator-id-9\" class=\"sk-toggleable__label sk-toggleable__label-arrow\">LabelPowerset</label><div class=\"sk-toggleable__content\"><pre>LabelPowerset(require_dense=[True, True])</pre></div></div></div></div></div></div></div></div></div></div>"
     },
     "execution_count": 97,
     "metadata": {},
     "output_type": "execute_result"
    }
   ],
   "source": [
    "from skmultilearn.problem_transform import LabelPowerset\n",
    "from sklearn.model_selection import GridSearchCV\n",
    "#from sklearn.naive_bayes import MultinomialNB\n",
    "from sklearn.ensemble import RandomForestClassifier\n",
    "parameters = [\n",
    "    {\n",
    "        'classifier': [RandomForestClassifier()],\n",
    "        'classifier__criterion': ['gini'],\n",
    "        'classifier__n_estimators': [10, 20],\n",
    "    },\n",
    "]\n",
    "\n",
    "clf = GridSearchCV(LabelPowerset(require_dense=[True, True]), parameters, scoring='f1_micro')\n",
    "#clf.fit(x_resampled, y_resampled)\n",
    "y = y_resampled.todense()\n",
    "#x = x_resampled.todense()\n",
    "clf.fit(x_resampled, y)\n"
   ],
   "metadata": {
    "collapsed": false
   }
  },
  {
   "cell_type": "code",
   "execution_count": 9,
   "outputs": [
    {
     "data": {
      "text/plain": "<20x4 sparse matrix of type '<class 'numpy.int64'>'\n\twith 0 stored elements in List of Lists format>"
     },
     "execution_count": 9,
     "metadata": {},
     "output_type": "execute_result"
    }
   ],
   "source": [
    "from scipy import sparse\n",
    "x_test = np.array(test_genotypes)\n",
    "y_test = np.array(test_phenotypes)\n",
    "prediction = clf.predict(x_test)\n",
    "prediction"
   ],
   "metadata": {
    "collapsed": false
   }
  },
  {
   "cell_type": "markdown",
   "source": [
    "Now it is time to measure performance..."
   ],
   "metadata": {
    "collapsed": false
   }
  },
  {
   "cell_type": "code",
   "execution_count": 10,
   "outputs": [
    {
     "name": "stdout",
     "output_type": "stream",
     "text": [
      "0.9\n",
      "[0. 0. 0. 0.]\n",
      "[0. 0. 0. 0.]\n"
     ]
    },
    {
     "name": "stderr",
     "output_type": "stream",
     "text": [
      "F-score is ill-defined and being set to 0.0 in labels with no true nor predicted samples. Use `zero_division` parameter to control this behavior.\n",
      "F-score is ill-defined and being set to 0.0 in labels with no true nor predicted samples. Use `zero_division` parameter to control this behavior.\n"
     ]
    }
   ],
   "source": [
    "from sklearn.metrics import hamming_loss\n",
    "from sklearn.metrics import accuracy_score\n",
    "from sklearn.metrics import f1_score\n",
    "from sklearn.metrics import precision_score\n",
    "from sklearn.metrics import recall_score\n",
    "from sklearn.metrics import zero_one_loss\n",
    "from sklearn.metrics import jaccard_score\n",
    "hamming = hamming_loss(y_test, prediction)\n",
    "accuracy = accuracy_score(y_test, prediction)\n",
    "print(hamming)\n",
    "print(accuracy)\n",
    "jaccard_score(y_test, prediction, average='samples')\n",
    "#jaccard_score(y_test, prediction, average='macro')\n",
    "#jaccard_score(y_test, prediction, average='micro')\n",
    "#jaccard_score(y_test, prediction, average=None)\n",
    "f1_micro = f1_score(y_test, prediction,average=None)\n",
    "f1_macro = f1_score(y_test, prediction,average=None)\n",
    "print(f1_micro)\n",
    "print(f1_macro)\n",
    "#precision_score(y_test, prediction,average='macro')\n",
    "#precision_score(y_test, prediction,average='micro')\n",
    "#recall_score(y_test, prediction,average='micro')\n",
    "#recall_score(y_test, prediction,average='macro')\n",
    "#zero_one_loss(y_test, prediction,normalize=True)"
   ],
   "metadata": {
    "collapsed": false
   }
  },
  {
   "cell_type": "markdown",
   "source": [
    "Now it is time to estimate feature importance. To do this we will use permutation importance. We will perform it on the held out test dataset to\n"
   ],
   "metadata": {
    "collapsed": false
   }
  },
  {
   "cell_type": "code",
   "execution_count": 60,
   "outputs": [
    {
     "name": "stdout",
     "output_type": "stream",
     "text": [
      "{'importances_mean': array([0., 0., 0., ..., 0., 0., 0.]), 'importances_std': array([0., 0., 0., ..., 0., 0., 0.]), 'importances': array([[0., 0.],\n",
      "       [0., 0.],\n",
      "       [0., 0.],\n",
      "       ...,\n",
      "       [0., 0.],\n",
      "       [0., 0.],\n",
      "       [0., 0.]])}\n",
      "14373\n"
     ]
    }
   ],
   "source": [
    "from sklearn.inspection import permutation_importance\n",
    "result = permutation_importance(clf, x_test, y_test, n_repeats=2, random_state=42)\n",
    "print(result)\n",
    "print(len(result['importances']))"
   ],
   "metadata": {
    "collapsed": false
   }
  },
  {
   "cell_type": "code",
   "execution_count": 121,
   "outputs": [
    {
     "name": "stdout",
     "output_type": "stream",
     "text": [
      "LabelPowerset(classifier=RandomForestClassifier(n_estimators=20),\n",
      "              require_dense=[True, True])\n"
     ]
    },
    {
     "name": "stderr",
     "output_type": "stream",
     "text": [
      "F-score is ill-defined and being set to 0.0 in labels with no true nor predicted samples. Use `zero_division` parameter to control this behavior.\n",
      "F-score is ill-defined and being set to 0.0 in labels with no true nor predicted samples. Use `zero_division` parameter to control this behavior.\n",
      "F-score is ill-defined and being set to 0.0 in labels with no true nor predicted samples. Use `zero_division` parameter to control this behavior.\n",
      "F-score is ill-defined and being set to 0.0 in labels with no true nor predicted samples. Use `zero_division` parameter to control this behavior.\n",
      "F-score is ill-defined and being set to 0.0 in labels with no true nor predicted samples. Use `zero_division` parameter to control this behavior.\n",
      "F-score is ill-defined and being set to 0.0 in labels with no true nor predicted samples. Use `zero_division` parameter to control this behavior.\n",
      "F-score is ill-defined and being set to 0.0 in labels with no true nor predicted samples. Use `zero_division` parameter to control this behavior.\n",
      "F-score is ill-defined and being set to 0.0 in labels with no true nor predicted samples. Use `zero_division` parameter to control this behavior.\n",
      "F-score is ill-defined and being set to 0.0 in labels with no true nor predicted samples. Use `zero_division` parameter to control this behavior.\n"
     ]
    },
    {
     "name": "stdout",
     "output_type": "stream",
     "text": [
      "8\n"
     ]
    },
    {
     "name": "stderr",
     "output_type": "stream",
     "text": [
      "F-score is ill-defined and being set to 0.0 in labels with no true nor predicted samples. Use `zero_division` parameter to control this behavior.\n"
     ]
    }
   ],
   "source": [
    "### make into a function - permutation threshold\n",
    "from numpy import gradient\n",
    "new_clf = clf.best_estimator_\n",
    "print(new_clf)\n",
    "importance_sort = np.argsort(result[\"importances_mean\"])[::-1]\n",
    "#print(importance_sort)\n",
    "f1_scores = list(range(0, 10))\n",
    "for x in range(0, 10):\n",
    "    if x == 0:\n",
    "        i = importance_sort[x]\n",
    "        x_removal = np.delete(x_resampled, i, axis=1)\n",
    "        x_test_rem = np.delete(x_test, i, axis=1)\n",
    "        new_clf.fit(x_removal, y)\n",
    "        prediction_rem = new_clf.predict(x_test_rem)\n",
    "        f1 = f1_score(y_test, prediction, average=\"macro\")\n",
    "        f1_scores[x] = f1\n",
    "    else:\n",
    "        i = importance_sort[0:x]\n",
    "        x_removal = np.delete(x_resampled, i, axis=1)\n",
    "        x_test_rem = np.delete(x_test, i, axis=1)\n",
    "        new_clf.fit(x_removal, y)\n",
    "        prediction_rem = new_clf.predict(x_test_rem)\n",
    "        f1 = f1_score(y_test, prediction, average=\"macro\")\n",
    "        f1_scores[x] = f1\n",
    "f1_scores\n",
    "g = gradient(f1_scores)\n",
    "zeros = [ i for i,x in enumerate(g) if x.any() == 0 ]\n",
    "threshold = min(zeros)\n",
    "print(threshold)\n",
    "\n"
   ],
   "metadata": {
    "collapsed": false
   }
  },
  {
   "cell_type": "code",
   "execution_count": 122,
   "outputs": [
    {
     "name": "stderr",
     "output_type": "stream",
     "text": [
      "F-score is ill-defined and being set to 0.0 in labels with no true nor predicted samples. Use `zero_division` parameter to control this behavior.\n",
      "F-score is ill-defined and being set to 0.0 in labels with no true nor predicted samples. Use `zero_division` parameter to control this behavior.\n",
      "F-score is ill-defined and being set to 0.0 in labels with no true nor predicted samples. Use `zero_division` parameter to control this behavior.\n",
      "F-score is ill-defined and being set to 0.0 in labels with no true nor predicted samples. Use `zero_division` parameter to control this behavior.\n",
      "F-score is ill-defined and being set to 0.0 in labels with no true nor predicted samples. Use `zero_division` parameter to control this behavior.\n",
      "F-score is ill-defined and being set to 0.0 in labels with no true nor predicted samples. Use `zero_division` parameter to control this behavior.\n",
      "F-score is ill-defined and being set to 0.0 in labels with no true nor predicted samples. Use `zero_division` parameter to control this behavior.\n",
      "F-score is ill-defined and being set to 0.0 in labels with no true nor predicted samples. Use `zero_division` parameter to control this behavior.\n"
     ]
    }
   ],
   "source": [
    "### make into another function\n",
    "new_clf = clf.best_estimator_\n",
    "## Drop column importance\n",
    "f1_scores2 = list(range(0, threshold))\n",
    "for x in range(0, threshold):\n",
    "    i = importance_sort[x]\n",
    "    x_removal = np.delete(x_resampled, i, axis=1)\n",
    "    x_test_rem = np.delete(x_test, i, axis=1)\n",
    "    new_clf.fit(x_removal, y)\n",
    "    prediction_rem = new_clf.predict(x_test_rem)\n",
    "    f1 = f1_score(y_test, prediction, average=None)\n",
    "    f1_scores2[x] = f1\n",
    "f1_scores2\n",
    "importance_each = f1_scores2"
   ],
   "metadata": {
    "collapsed": false
   }
  },
  {
   "cell_type": "markdown",
   "source": [
    "Need to measure the difference between importances!!!!"
   ],
   "metadata": {
    "collapsed": false
   }
  },
  {
   "cell_type": "code",
   "execution_count": 123,
   "outputs": [
    {
     "data": {
      "text/plain": "[array([0., 0., 0., 0.]),\n array([0., 0., 0., 0.]),\n array([0., 0., 0., 0.]),\n array([0., 0., 0., 0.]),\n array([0., 0., 0., 0.]),\n array([0., 0., 0., 0.]),\n array([0., 0., 0., 0.]),\n array([0., 0., 0., 0.])]"
     },
     "execution_count": 123,
     "metadata": {},
     "output_type": "execute_result"
    }
   ],
   "source": [
    "importance_each"
   ],
   "metadata": {
    "collapsed": false
   }
  },
  {
   "cell_type": "code",
   "execution_count": null,
   "outputs": [],
   "source": [],
   "metadata": {
    "collapsed": false
   }
  }
 ],
 "metadata": {
  "kernelspec": {
   "name": "multilabel",
   "language": "python",
   "display_name": "multilabel"
  },
  "language_info": {
   "codemirror_mode": {
    "name": "ipython",
    "version": 2
   },
   "file_extension": ".py",
   "mimetype": "text/x-python",
   "name": "python",
   "nbconvert_exporter": "python",
   "pygments_lexer": "ipython2",
   "version": "2.7.6"
  }
 },
 "nbformat": 4,
 "nbformat_minor": 0
}
